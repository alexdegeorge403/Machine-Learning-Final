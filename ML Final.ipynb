{
 "cells": [
  {
   "cell_type": "code",
   "execution_count": 18,
   "metadata": {},
   "outputs": [],
   "source": [
    "import numpy as np\n",
    "import pandas as pd\n",
    "import matplotlib.pyplot as plt\n",
    "from sklearn.model_selection import train_test_split"
   ]
  },
  {
   "cell_type": "code",
   "execution_count": 19,
   "metadata": {},
   "outputs": [],
   "source": [
    "data = pd.read_csv('top10s.csv', encoding = 'cp1252')"
   ]
  },
  {
   "cell_type": "code",
   "execution_count": 20,
   "metadata": {},
   "outputs": [
    {
     "data": {
      "text/html": [
       "<div>\n",
       "<style scoped>\n",
       "    .dataframe tbody tr th:only-of-type {\n",
       "        vertical-align: middle;\n",
       "    }\n",
       "\n",
       "    .dataframe tbody tr th {\n",
       "        vertical-align: top;\n",
       "    }\n",
       "\n",
       "    .dataframe thead th {\n",
       "        text-align: right;\n",
       "    }\n",
       "</style>\n",
       "<table border=\"1\" class=\"dataframe\">\n",
       "  <thead>\n",
       "    <tr style=\"text-align: right;\">\n",
       "      <th></th>\n",
       "      <th>Unnamed: 0</th>\n",
       "      <th>title</th>\n",
       "      <th>artist</th>\n",
       "      <th>top genre</th>\n",
       "      <th>year</th>\n",
       "      <th>bpm</th>\n",
       "      <th>nrgy</th>\n",
       "      <th>dnce</th>\n",
       "      <th>dB</th>\n",
       "      <th>live</th>\n",
       "      <th>val</th>\n",
       "      <th>dur</th>\n",
       "      <th>acous</th>\n",
       "      <th>spch</th>\n",
       "      <th>pop</th>\n",
       "    </tr>\n",
       "  </thead>\n",
       "  <tbody>\n",
       "    <tr>\n",
       "      <th>0</th>\n",
       "      <td>1</td>\n",
       "      <td>Hey, Soul Sister</td>\n",
       "      <td>Train</td>\n",
       "      <td>neo mellow</td>\n",
       "      <td>2010</td>\n",
       "      <td>97</td>\n",
       "      <td>89</td>\n",
       "      <td>67</td>\n",
       "      <td>-4</td>\n",
       "      <td>8</td>\n",
       "      <td>80</td>\n",
       "      <td>217</td>\n",
       "      <td>19</td>\n",
       "      <td>4</td>\n",
       "      <td>83</td>\n",
       "    </tr>\n",
       "    <tr>\n",
       "      <th>1</th>\n",
       "      <td>2</td>\n",
       "      <td>Love The Way You Lie</td>\n",
       "      <td>Eminem</td>\n",
       "      <td>detroit hip hop</td>\n",
       "      <td>2010</td>\n",
       "      <td>87</td>\n",
       "      <td>93</td>\n",
       "      <td>75</td>\n",
       "      <td>-5</td>\n",
       "      <td>52</td>\n",
       "      <td>64</td>\n",
       "      <td>263</td>\n",
       "      <td>24</td>\n",
       "      <td>23</td>\n",
       "      <td>82</td>\n",
       "    </tr>\n",
       "    <tr>\n",
       "      <th>2</th>\n",
       "      <td>3</td>\n",
       "      <td>TiK ToK</td>\n",
       "      <td>Kesha</td>\n",
       "      <td>dance pop</td>\n",
       "      <td>2010</td>\n",
       "      <td>120</td>\n",
       "      <td>84</td>\n",
       "      <td>76</td>\n",
       "      <td>-3</td>\n",
       "      <td>29</td>\n",
       "      <td>71</td>\n",
       "      <td>200</td>\n",
       "      <td>10</td>\n",
       "      <td>14</td>\n",
       "      <td>80</td>\n",
       "    </tr>\n",
       "    <tr>\n",
       "      <th>3</th>\n",
       "      <td>4</td>\n",
       "      <td>Bad Romance</td>\n",
       "      <td>Lady Gaga</td>\n",
       "      <td>dance pop</td>\n",
       "      <td>2010</td>\n",
       "      <td>119</td>\n",
       "      <td>92</td>\n",
       "      <td>70</td>\n",
       "      <td>-4</td>\n",
       "      <td>8</td>\n",
       "      <td>71</td>\n",
       "      <td>295</td>\n",
       "      <td>0</td>\n",
       "      <td>4</td>\n",
       "      <td>79</td>\n",
       "    </tr>\n",
       "    <tr>\n",
       "      <th>4</th>\n",
       "      <td>5</td>\n",
       "      <td>Just the Way You Are</td>\n",
       "      <td>Bruno Mars</td>\n",
       "      <td>pop</td>\n",
       "      <td>2010</td>\n",
       "      <td>109</td>\n",
       "      <td>84</td>\n",
       "      <td>64</td>\n",
       "      <td>-5</td>\n",
       "      <td>9</td>\n",
       "      <td>43</td>\n",
       "      <td>221</td>\n",
       "      <td>2</td>\n",
       "      <td>4</td>\n",
       "      <td>78</td>\n",
       "    </tr>\n",
       "    <tr>\n",
       "      <th>...</th>\n",
       "      <td>...</td>\n",
       "      <td>...</td>\n",
       "      <td>...</td>\n",
       "      <td>...</td>\n",
       "      <td>...</td>\n",
       "      <td>...</td>\n",
       "      <td>...</td>\n",
       "      <td>...</td>\n",
       "      <td>...</td>\n",
       "      <td>...</td>\n",
       "      <td>...</td>\n",
       "      <td>...</td>\n",
       "      <td>...</td>\n",
       "      <td>...</td>\n",
       "      <td>...</td>\n",
       "    </tr>\n",
       "    <tr>\n",
       "      <th>598</th>\n",
       "      <td>599</td>\n",
       "      <td>Find U Again (feat. Camila Cabello)</td>\n",
       "      <td>Mark Ronson</td>\n",
       "      <td>dance pop</td>\n",
       "      <td>2019</td>\n",
       "      <td>104</td>\n",
       "      <td>66</td>\n",
       "      <td>61</td>\n",
       "      <td>-7</td>\n",
       "      <td>20</td>\n",
       "      <td>16</td>\n",
       "      <td>176</td>\n",
       "      <td>1</td>\n",
       "      <td>3</td>\n",
       "      <td>75</td>\n",
       "    </tr>\n",
       "    <tr>\n",
       "      <th>599</th>\n",
       "      <td>600</td>\n",
       "      <td>Cross Me (feat. Chance the Rapper &amp; PnB Rock)</td>\n",
       "      <td>Ed Sheeran</td>\n",
       "      <td>pop</td>\n",
       "      <td>2019</td>\n",
       "      <td>95</td>\n",
       "      <td>79</td>\n",
       "      <td>75</td>\n",
       "      <td>-6</td>\n",
       "      <td>7</td>\n",
       "      <td>61</td>\n",
       "      <td>206</td>\n",
       "      <td>21</td>\n",
       "      <td>12</td>\n",
       "      <td>75</td>\n",
       "    </tr>\n",
       "    <tr>\n",
       "      <th>600</th>\n",
       "      <td>601</td>\n",
       "      <td>No Brainer (feat. Justin Bieber, Chance the Ra...</td>\n",
       "      <td>DJ Khaled</td>\n",
       "      <td>dance pop</td>\n",
       "      <td>2019</td>\n",
       "      <td>136</td>\n",
       "      <td>76</td>\n",
       "      <td>53</td>\n",
       "      <td>-5</td>\n",
       "      <td>9</td>\n",
       "      <td>65</td>\n",
       "      <td>260</td>\n",
       "      <td>7</td>\n",
       "      <td>34</td>\n",
       "      <td>70</td>\n",
       "    </tr>\n",
       "    <tr>\n",
       "      <th>601</th>\n",
       "      <td>602</td>\n",
       "      <td>Nothing Breaks Like a Heart (feat. Miley Cyrus)</td>\n",
       "      <td>Mark Ronson</td>\n",
       "      <td>dance pop</td>\n",
       "      <td>2019</td>\n",
       "      <td>114</td>\n",
       "      <td>79</td>\n",
       "      <td>60</td>\n",
       "      <td>-6</td>\n",
       "      <td>42</td>\n",
       "      <td>24</td>\n",
       "      <td>217</td>\n",
       "      <td>1</td>\n",
       "      <td>7</td>\n",
       "      <td>69</td>\n",
       "    </tr>\n",
       "    <tr>\n",
       "      <th>602</th>\n",
       "      <td>603</td>\n",
       "      <td>Kills You Slowly</td>\n",
       "      <td>The Chainsmokers</td>\n",
       "      <td>electropop</td>\n",
       "      <td>2019</td>\n",
       "      <td>150</td>\n",
       "      <td>44</td>\n",
       "      <td>70</td>\n",
       "      <td>-9</td>\n",
       "      <td>13</td>\n",
       "      <td>23</td>\n",
       "      <td>213</td>\n",
       "      <td>6</td>\n",
       "      <td>6</td>\n",
       "      <td>67</td>\n",
       "    </tr>\n",
       "  </tbody>\n",
       "</table>\n",
       "<p>603 rows × 15 columns</p>\n",
       "</div>"
      ],
      "text/plain": [
       "     Unnamed: 0                                              title  \\\n",
       "0             1                                   Hey, Soul Sister   \n",
       "1             2                               Love The Way You Lie   \n",
       "2             3                                            TiK ToK   \n",
       "3             4                                        Bad Romance   \n",
       "4             5                               Just the Way You Are   \n",
       "..          ...                                                ...   \n",
       "598         599                Find U Again (feat. Camila Cabello)   \n",
       "599         600      Cross Me (feat. Chance the Rapper & PnB Rock)   \n",
       "600         601  No Brainer (feat. Justin Bieber, Chance the Ra...   \n",
       "601         602    Nothing Breaks Like a Heart (feat. Miley Cyrus)   \n",
       "602         603                                   Kills You Slowly   \n",
       "\n",
       "               artist        top genre  year  bpm  nrgy  dnce  dB  live  val  \\\n",
       "0               Train       neo mellow  2010   97    89    67  -4     8   80   \n",
       "1              Eminem  detroit hip hop  2010   87    93    75  -5    52   64   \n",
       "2               Kesha        dance pop  2010  120    84    76  -3    29   71   \n",
       "3           Lady Gaga        dance pop  2010  119    92    70  -4     8   71   \n",
       "4          Bruno Mars              pop  2010  109    84    64  -5     9   43   \n",
       "..                ...              ...   ...  ...   ...   ...  ..   ...  ...   \n",
       "598       Mark Ronson        dance pop  2019  104    66    61  -7    20   16   \n",
       "599        Ed Sheeran              pop  2019   95    79    75  -6     7   61   \n",
       "600         DJ Khaled        dance pop  2019  136    76    53  -5     9   65   \n",
       "601       Mark Ronson        dance pop  2019  114    79    60  -6    42   24   \n",
       "602  The Chainsmokers       electropop  2019  150    44    70  -9    13   23   \n",
       "\n",
       "     dur  acous  spch  pop  \n",
       "0    217     19     4   83  \n",
       "1    263     24    23   82  \n",
       "2    200     10    14   80  \n",
       "3    295      0     4   79  \n",
       "4    221      2     4   78  \n",
       "..   ...    ...   ...  ...  \n",
       "598  176      1     3   75  \n",
       "599  206     21    12   75  \n",
       "600  260      7    34   70  \n",
       "601  217      1     7   69  \n",
       "602  213      6     6   67  \n",
       "\n",
       "[603 rows x 15 columns]"
      ]
     },
     "execution_count": 20,
     "metadata": {},
     "output_type": "execute_result"
    }
   ],
   "source": [
    "data"
   ]
  },
  {
   "cell_type": "code",
   "execution_count": 21,
   "metadata": {},
   "outputs": [
    {
     "data": {
      "text/html": [
       "<div>\n",
       "<style scoped>\n",
       "    .dataframe tbody tr th:only-of-type {\n",
       "        vertical-align: middle;\n",
       "    }\n",
       "\n",
       "    .dataframe tbody tr th {\n",
       "        vertical-align: top;\n",
       "    }\n",
       "\n",
       "    .dataframe thead th {\n",
       "        text-align: right;\n",
       "    }\n",
       "</style>\n",
       "<table border=\"1\" class=\"dataframe\">\n",
       "  <thead>\n",
       "    <tr style=\"text-align: right;\">\n",
       "      <th></th>\n",
       "      <th>title</th>\n",
       "      <th>artist</th>\n",
       "      <th>bpm</th>\n",
       "      <th>nrgy</th>\n",
       "      <th>dur</th>\n",
       "    </tr>\n",
       "  </thead>\n",
       "  <tbody>\n",
       "    <tr>\n",
       "      <th>0</th>\n",
       "      <td>Hey, Soul Sister</td>\n",
       "      <td>Train</td>\n",
       "      <td>97</td>\n",
       "      <td>89</td>\n",
       "      <td>217</td>\n",
       "    </tr>\n",
       "    <tr>\n",
       "      <th>1</th>\n",
       "      <td>Love The Way You Lie</td>\n",
       "      <td>Eminem</td>\n",
       "      <td>87</td>\n",
       "      <td>93</td>\n",
       "      <td>263</td>\n",
       "    </tr>\n",
       "    <tr>\n",
       "      <th>2</th>\n",
       "      <td>TiK ToK</td>\n",
       "      <td>Kesha</td>\n",
       "      <td>120</td>\n",
       "      <td>84</td>\n",
       "      <td>200</td>\n",
       "    </tr>\n",
       "    <tr>\n",
       "      <th>3</th>\n",
       "      <td>Bad Romance</td>\n",
       "      <td>Lady Gaga</td>\n",
       "      <td>119</td>\n",
       "      <td>92</td>\n",
       "      <td>295</td>\n",
       "    </tr>\n",
       "    <tr>\n",
       "      <th>4</th>\n",
       "      <td>Just the Way You Are</td>\n",
       "      <td>Bruno Mars</td>\n",
       "      <td>109</td>\n",
       "      <td>84</td>\n",
       "      <td>221</td>\n",
       "    </tr>\n",
       "    <tr>\n",
       "      <th>...</th>\n",
       "      <td>...</td>\n",
       "      <td>...</td>\n",
       "      <td>...</td>\n",
       "      <td>...</td>\n",
       "      <td>...</td>\n",
       "    </tr>\n",
       "    <tr>\n",
       "      <th>598</th>\n",
       "      <td>Find U Again (feat. Camila Cabello)</td>\n",
       "      <td>Mark Ronson</td>\n",
       "      <td>104</td>\n",
       "      <td>66</td>\n",
       "      <td>176</td>\n",
       "    </tr>\n",
       "    <tr>\n",
       "      <th>599</th>\n",
       "      <td>Cross Me (feat. Chance the Rapper &amp; PnB Rock)</td>\n",
       "      <td>Ed Sheeran</td>\n",
       "      <td>95</td>\n",
       "      <td>79</td>\n",
       "      <td>206</td>\n",
       "    </tr>\n",
       "    <tr>\n",
       "      <th>600</th>\n",
       "      <td>No Brainer (feat. Justin Bieber, Chance the Ra...</td>\n",
       "      <td>DJ Khaled</td>\n",
       "      <td>136</td>\n",
       "      <td>76</td>\n",
       "      <td>260</td>\n",
       "    </tr>\n",
       "    <tr>\n",
       "      <th>601</th>\n",
       "      <td>Nothing Breaks Like a Heart (feat. Miley Cyrus)</td>\n",
       "      <td>Mark Ronson</td>\n",
       "      <td>114</td>\n",
       "      <td>79</td>\n",
       "      <td>217</td>\n",
       "    </tr>\n",
       "    <tr>\n",
       "      <th>602</th>\n",
       "      <td>Kills You Slowly</td>\n",
       "      <td>The Chainsmokers</td>\n",
       "      <td>150</td>\n",
       "      <td>44</td>\n",
       "      <td>213</td>\n",
       "    </tr>\n",
       "  </tbody>\n",
       "</table>\n",
       "<p>603 rows × 5 columns</p>\n",
       "</div>"
      ],
      "text/plain": [
       "                                                 title            artist  bpm  \\\n",
       "0                                     Hey, Soul Sister             Train   97   \n",
       "1                                 Love The Way You Lie            Eminem   87   \n",
       "2                                              TiK ToK             Kesha  120   \n",
       "3                                          Bad Romance         Lady Gaga  119   \n",
       "4                                 Just the Way You Are        Bruno Mars  109   \n",
       "..                                                 ...               ...  ...   \n",
       "598                Find U Again (feat. Camila Cabello)       Mark Ronson  104   \n",
       "599      Cross Me (feat. Chance the Rapper & PnB Rock)        Ed Sheeran   95   \n",
       "600  No Brainer (feat. Justin Bieber, Chance the Ra...         DJ Khaled  136   \n",
       "601    Nothing Breaks Like a Heart (feat. Miley Cyrus)       Mark Ronson  114   \n",
       "602                                   Kills You Slowly  The Chainsmokers  150   \n",
       "\n",
       "     nrgy  dur  \n",
       "0      89  217  \n",
       "1      93  263  \n",
       "2      84  200  \n",
       "3      92  295  \n",
       "4      84  221  \n",
       "..    ...  ...  \n",
       "598    66  176  \n",
       "599    79  206  \n",
       "600    76  260  \n",
       "601    79  217  \n",
       "602    44  213  \n",
       "\n",
       "[603 rows x 5 columns]"
      ]
     },
     "execution_count": 21,
     "metadata": {},
     "output_type": "execute_result"
    }
   ],
   "source": [
    "df = data.drop(['Unnamed: 0', 'top genre', 'year', 'dnce', 'dB', 'live', 'val', 'acous', 'spch', 'pop'], axis = 1)\n",
    "df"
   ]
  },
  {
   "cell_type": "code",
   "execution_count": 22,
   "metadata": {},
   "outputs": [
    {
     "data": {
      "text/html": [
       "<div>\n",
       "<style scoped>\n",
       "    .dataframe tbody tr th:only-of-type {\n",
       "        vertical-align: middle;\n",
       "    }\n",
       "\n",
       "    .dataframe tbody tr th {\n",
       "        vertical-align: top;\n",
       "    }\n",
       "\n",
       "    .dataframe thead th {\n",
       "        text-align: right;\n",
       "    }\n",
       "</style>\n",
       "<table border=\"1\" class=\"dataframe\">\n",
       "  <thead>\n",
       "    <tr style=\"text-align: right;\">\n",
       "      <th></th>\n",
       "      <th>bpm</th>\n",
       "      <th>nrgy</th>\n",
       "      <th>dur</th>\n",
       "    </tr>\n",
       "  </thead>\n",
       "  <tbody>\n",
       "    <tr>\n",
       "      <th>0</th>\n",
       "      <td>-0.868937</td>\n",
       "      <td>1.133973</td>\n",
       "      <td>-0.224874</td>\n",
       "    </tr>\n",
       "    <tr>\n",
       "      <th>1</th>\n",
       "      <td>-1.272238</td>\n",
       "      <td>1.379211</td>\n",
       "      <td>1.122912</td>\n",
       "    </tr>\n",
       "    <tr>\n",
       "      <th>2</th>\n",
       "      <td>0.058656</td>\n",
       "      <td>0.827425</td>\n",
       "      <td>-0.722969</td>\n",
       "    </tr>\n",
       "    <tr>\n",
       "      <th>3</th>\n",
       "      <td>0.018326</td>\n",
       "      <td>1.317902</td>\n",
       "      <td>2.060502</td>\n",
       "    </tr>\n",
       "    <tr>\n",
       "      <th>4</th>\n",
       "      <td>-0.384975</td>\n",
       "      <td>0.827425</td>\n",
       "      <td>-0.107675</td>\n",
       "    </tr>\n",
       "    <tr>\n",
       "      <th>...</th>\n",
       "      <td>...</td>\n",
       "      <td>...</td>\n",
       "      <td>...</td>\n",
       "    </tr>\n",
       "    <tr>\n",
       "      <th>598</th>\n",
       "      <td>-0.586626</td>\n",
       "      <td>-0.276147</td>\n",
       "      <td>-1.426161</td>\n",
       "    </tr>\n",
       "    <tr>\n",
       "      <th>599</th>\n",
       "      <td>-0.949597</td>\n",
       "      <td>0.520877</td>\n",
       "      <td>-0.547170</td>\n",
       "    </tr>\n",
       "    <tr>\n",
       "      <th>600</th>\n",
       "      <td>0.703938</td>\n",
       "      <td>0.336949</td>\n",
       "      <td>1.035013</td>\n",
       "    </tr>\n",
       "    <tr>\n",
       "      <th>601</th>\n",
       "      <td>-0.183325</td>\n",
       "      <td>0.520877</td>\n",
       "      <td>-0.224874</td>\n",
       "    </tr>\n",
       "    <tr>\n",
       "      <th>602</th>\n",
       "      <td>1.268560</td>\n",
       "      <td>-1.624958</td>\n",
       "      <td>-0.342073</td>\n",
       "    </tr>\n",
       "  </tbody>\n",
       "</table>\n",
       "<p>603 rows × 3 columns</p>\n",
       "</div>"
      ],
      "text/plain": [
       "          bpm      nrgy       dur\n",
       "0   -0.868937  1.133973 -0.224874\n",
       "1   -1.272238  1.379211  1.122912\n",
       "2    0.058656  0.827425 -0.722969\n",
       "3    0.018326  1.317902  2.060502\n",
       "4   -0.384975  0.827425 -0.107675\n",
       "..        ...       ...       ...\n",
       "598 -0.586626 -0.276147 -1.426161\n",
       "599 -0.949597  0.520877 -0.547170\n",
       "600  0.703938  0.336949  1.035013\n",
       "601 -0.183325  0.520877 -0.224874\n",
       "602  1.268560 -1.624958 -0.342073\n",
       "\n",
       "[603 rows x 3 columns]"
      ]
     },
     "execution_count": 22,
     "metadata": {},
     "output_type": "execute_result"
    }
   ],
   "source": [
    "df_new = df.drop(['title', 'artist'], axis = 1)\n",
    "df_new=(df_new-df_new.mean())/df_new.std()\n",
    "df_new"
   ]
  },
  {
   "cell_type": "code",
   "execution_count": 23,
   "metadata": {},
   "outputs": [],
   "source": [
    "from mpl_toolkits.mplot3d import Axes3D # <--- This is important for 3d plotting "
   ]
  },
  {
   "cell_type": "code",
   "execution_count": 24,
   "metadata": {},
   "outputs": [
    {
     "data": {
      "text/plain": [
       "<mpl_toolkits.mplot3d.art3d.Path3DCollection at 0x1a199b4dd0>"
      ]
     },
     "execution_count": 24,
     "metadata": {},
     "output_type": "execute_result"
    },
    {
     "data": {
      "image/png": "[encoded data removed]",
      "text/plain": [
       "<Figure size 432x288 with 1 Axes>"
      ]
     },
     "metadata": {
      "needs_background": "light"
     },
     "output_type": "display_data"
    }
   ],
   "source": [
    "fig = plt.figure()\n",
    "ax = plt.axes(projection ='3d')\n",
    "\n",
    "ax.scatter3D(df_new['bpm'], df_new['nrgy'], df_new['dur'])\n"
   ]
  },
  {
   "cell_type": "code",
   "execution_count": 25,
   "metadata": {},
   "outputs": [],
   "source": [
    "from sklearn.cluster import KMeans"
   ]
  },
  {
   "cell_type": "code",
   "execution_count": 100,
   "metadata": {},
   "outputs": [],
   "source": [
    "#create a list of each penalty, for 1-9 clusters\n",
    "penalties = []\n",
    "for i in range(1, 10):\n",
    "    kmeans = KMeans(n_clusters = i).fit(df_new)\n",
    "    penalty = kmeans.inertia_ #this is the penalty for i clusters\n",
    "    penalties.append(penalty) #add to the []"
   ]
  },
  {
   "cell_type": "code",
   "execution_count": 101,
   "metadata": {
    "scrolled": true
   },
   "outputs": [
    {
     "name": "stdout",
     "output_type": "stream",
     "text": [
      "[1805.9999999999989, 1342.1956057155828, 1089.180600345537, 872.2317402543422, 759.5053532590157, 684.3781213645159, 617.6086798250759, 565.3040194044222, 520.4785386929617]\n"
     ]
    }
   ],
   "source": [
    "print(penalties)"
   ]
  },
  {
   "cell_type": "code",
   "execution_count": 102,
   "metadata": {},
   "outputs": [
    {
     "data": {
      "image/png": "[encoded data removed]",
      "text/plain": [
       "<Figure size 432x288 with 1 Axes>"
      ]
     },
     "metadata": {
      "needs_background": "light"
     },
     "output_type": "display_data"
    }
   ],
   "source": [
    "xaxis = [1,2,3,4,5,6,7,8,9]\n",
    "plt.plot(xaxis, penalties, '.r-')\n",
    "plt.xlabel('Number of Clusters')\n",
    "plt.ylabel('Penalty Value')\n",
    "plt.show()"
   ]
  },
  {
   "cell_type": "code",
   "execution_count": 105,
   "metadata": {},
   "outputs": [
    {
     "data": {
      "text/plain": [
       "array([1, 0, 1, 0, 1, 1, 1, 2, 3, 1, 1, 2, 1, 1, 1, 0, 3, 0, 0, 1, 0, 2,\n",
       "       1, 1, 2, 2, 1, 1, 1, 1, 1, 1, 1, 3, 1, 1, 2, 1, 0, 2, 2, 3, 2, 1,\n",
       "       3, 1, 1, 1, 0, 1, 1, 0, 0, 1, 1, 1, 1, 1, 0, 3, 1, 2, 0, 0, 2, 0,\n",
       "       0, 1, 2, 0, 3, 0, 0, 1, 3, 1, 0, 2, 1, 3, 1, 0, 1, 1, 1, 1, 0, 3,\n",
       "       1, 1, 1, 0, 0, 1, 3, 0, 3, 1, 1, 1, 0, 1, 1, 1, 1, 2, 0, 1, 1, 3,\n",
       "       3, 1, 0, 1, 1, 0, 1, 1, 1, 1, 1, 1, 0, 3, 1, 3, 1, 2, 1, 1, 1, 1,\n",
       "       2, 1, 1, 1, 1, 2, 1, 2, 1, 0, 3, 1, 2, 3, 1, 1, 3, 2, 0, 2, 1, 1,\n",
       "       0, 1, 1, 2, 3, 1, 1, 1, 0, 1, 2, 2, 1, 0, 0, 3, 1, 1, 0, 0, 1, 1,\n",
       "       1, 1, 0, 1, 1, 2, 0, 0, 1, 1, 3, 0, 0, 1, 0, 1, 3, 1, 0, 2, 0, 1,\n",
       "       2, 1, 2, 1, 0, 0, 1, 1, 1, 3, 1, 0, 3, 3, 1, 2, 2, 2, 3, 0, 1, 1,\n",
       "       3, 1, 1, 3, 1, 0, 0, 0, 1, 2, 1, 1, 3, 3, 1, 3, 1, 3, 1, 0, 1, 0,\n",
       "       1, 1, 1, 2, 0, 1, 2, 3, 0, 1, 2, 2, 1, 3, 0, 0, 1, 1, 3, 3, 2, 3,\n",
       "       1, 3, 1, 0, 0, 3, 3, 3, 0, 0, 1, 1, 2, 2, 3, 3, 2, 1, 1, 3, 3, 1,\n",
       "       2, 1, 2, 1, 1, 1, 3, 0, 3, 0, 1, 1, 1, 1, 2, 1, 1, 1, 1, 0, 1, 2,\n",
       "       1, 1, 1, 3, 1, 1, 2, 1, 1, 1, 1, 1, 1, 1, 1, 1, 1, 2, 1, 1, 1, 3,\n",
       "       3, 1, 0, 2, 1, 0, 1, 1, 1, 3, 1, 0, 1, 3, 1, 0, 1, 3, 1, 1, 1, 0,\n",
       "       3, 1, 1, 1, 1, 1, 1, 3, 1, 3, 2, 3, 3, 1, 2, 3, 0, 1, 3, 3, 3, 1,\n",
       "       3, 1, 3, 3, 2, 0, 1, 3, 3, 0, 1, 1, 0, 1, 1, 1, 1, 1, 3, 1, 3, 1,\n",
       "       1, 3, 3, 2, 1, 1, 1, 1, 1, 1, 1, 1, 1, 1, 1, 2, 1, 1, 1, 0, 1, 2,\n",
       "       1, 1, 0, 1, 0, 3, 3, 1, 1, 1, 1, 1, 1, 3, 0, 1, 1, 1, 3, 1, 1, 0,\n",
       "       2, 3, 3, 3, 3, 2, 1, 3, 1, 0, 2, 2, 3, 3, 2, 0, 0, 3, 1, 0, 3, 2,\n",
       "       2, 3, 3, 3, 1, 1, 0, 2, 1, 3, 1, 3, 3, 3, 2, 1, 1, 1, 1, 1, 3, 1,\n",
       "       1, 1, 0, 1, 1, 3, 1, 1, 1, 3, 1, 1, 2, 1, 1, 0, 1, 3, 3, 2, 1, 0,\n",
       "       1, 0, 1, 3, 0, 1, 1, 1, 3, 2, 1, 2, 3, 1, 2, 1, 2, 2, 3, 1, 3, 1,\n",
       "       3, 1, 0, 1, 1, 3, 1, 3, 3, 1, 3, 3, 1, 0, 1, 0, 1, 2, 2, 1, 3, 2,\n",
       "       1, 1, 1, 1, 1, 3, 0, 1, 2, 0, 3, 1, 1, 1, 0, 1, 3, 3, 0, 2, 0, 1,\n",
       "       3, 3, 3, 3, 1, 3, 3, 1, 2, 1, 1, 3, 1, 1, 1, 1, 3, 1, 3, 1, 3, 1,\n",
       "       3, 2, 1, 1, 1, 1, 0, 1, 3], dtype=int32)"
      ]
     },
     "execution_count": 105,
     "metadata": {},
     "output_type": "execute_result"
    }
   ],
   "source": [
    "y = KMeans(n_clusters = 4).fit_predict(df_new)\n",
    "y"
   ]
  },
  {
   "cell_type": "code",
   "execution_count": 104,
   "metadata": {},
   "outputs": [
    {
     "data": {
      "text/plain": [
       "<mpl_toolkits.mplot3d.art3d.Path3DCollection at 0x1a19c54950>"
      ]
     },
     "execution_count": 104,
     "metadata": {},
     "output_type": "execute_result"
    },
    {
     "data": {
      "image/png": "[encoded data removed]",
      "text/plain": [
       "<Figure size 432x288 with 1 Axes>"
      ]
     },
     "metadata": {
      "needs_background": "light"
     },
     "output_type": "display_data"
    }
   ],
   "source": [
    "fig = plt.figure()\n",
    "ax = plt.axes(projection ='3d')\n",
    "\n",
    "ax.scatter3D(df_new['bpm'], df_new['nrgy'], df_new['dur'], c = y)\n"
   ]
  },
  {
   "cell_type": "code",
   "execution_count": 14,
   "metadata": {},
   "outputs": [],
   "source": [
    "X_train, X_test, y_train, y_test = train_test_split(\n",
    "...     df_new, y, test_size=0.33)"
   ]
  },
  {
   "cell_type": "code",
   "execution_count": 15,
   "metadata": {},
   "outputs": [],
   "source": [
    "from sklearn.neighbors import KNeighborsClassifier\n",
    "from sklearn import metrics\n",
    "\n",
    "k_range = range(1,30)\n",
    "scores = {}\n",
    "scores_list = []\n",
    "for k in k_range:\n",
    "    knn = KNeighborsClassifier(n_neighbors=k)\n",
    "    knn.fit(X_train,y_train)\n",
    "    y_pred=knn.predict(X_test)\n",
    "    scores[k] = metrics.accuracy_score(y_test,y_pred)\n",
    "    scores_list.append(metrics.accuracy_score(y_test,y_pred))"
   ]
  },
  {
   "cell_type": "code",
   "execution_count": 16,
   "metadata": {},
   "outputs": [
    {
     "data": {
      "text/plain": [
       "Text(0,0.5,'Testing Accuracy')"
      ]
     },
     "execution_count": 16,
     "metadata": {},
     "output_type": "execute_result"
    },
    {
     "data": {
      "image/png": "[encoded data removed]",
      "text/plain": [
       "<Figure size 432x288 with 1 Axes>"
      ]
     },
     "metadata": {
      "needs_background": "light"
     },
     "output_type": "display_data"
    }
   ],
   "source": [
    "plt.plot(k_range,scores_list)\n",
    "plt.xlabel(\"value of K for KNN\")\n",
    "plt.ylabel(\"Testing Accuracy\")"
   ]
  },
  {
   "cell_type": "code",
   "execution_count": 41,
   "metadata": {},
   "outputs": [
    {
     "data": {
      "text/plain": [
       "KNeighborsClassifier(algorithm='auto', leaf_size=30, metric='minkowski',\n",
       "                     metric_params=None, n_jobs=None, n_neighbors=7, p=2,\n",
       "                     weights='uniform')"
      ]
     },
     "execution_count": 41,
     "metadata": {},
     "output_type": "execute_result"
    }
   ],
   "source": [
    "knn = KNeighborsClassifier(n_neighbors = 7)\n",
    "knn.fit(X_train, y_train)"
   ]
  },
  {
   "cell_type": "code",
   "execution_count": 42,
   "metadata": {},
   "outputs": [],
   "source": [
    "y_pred = knn.predict(X_test)"
   ]
  },
  {
   "cell_type": "code",
   "execution_count": 43,
   "metadata": {
    "scrolled": true
   },
   "outputs": [
    {
     "data": {
      "text/plain": [
       "0.964824120603015"
      ]
     },
     "execution_count": 43,
     "metadata": {},
     "output_type": "execute_result"
    }
   ],
   "source": [
    "knn.score(X_test,y_test)"
   ]
  },
  {
   "cell_type": "code",
   "execution_count": 20,
   "metadata": {},
   "outputs": [],
   "source": [
    "from sklearn.ensemble import RandomForestClassifier"
   ]
  },
  {
   "cell_type": "code",
   "execution_count": 21,
   "metadata": {
    "scrolled": true
   },
   "outputs": [
    {
     "data": {
      "text/plain": [
       "RandomForestClassifier(bootstrap=True, ccp_alpha=0.0, class_weight=None,\n",
       "                       criterion='gini', max_depth=None, max_features='auto',\n",
       "                       max_leaf_nodes=None, max_samples=None,\n",
       "                       min_impurity_decrease=0.0, min_impurity_split=None,\n",
       "                       min_samples_leaf=1, min_samples_split=2,\n",
       "                       min_weight_fraction_leaf=0.0, n_estimators=100,\n",
       "                       n_jobs=None, oob_score=False, random_state=None,\n",
       "                       verbose=0, warm_start=False)"
      ]
     },
     "execution_count": 21,
     "metadata": {},
     "output_type": "execute_result"
    }
   ],
   "source": [
    "RFC = RandomForestClassifier()\n",
    "RFC.fit(X_train, y_train)"
   ]
  },
  {
   "cell_type": "code",
   "execution_count": 22,
   "metadata": {},
   "outputs": [],
   "source": [
    "forest_pred = RFC.predict(X_test)"
   ]
  },
  {
   "cell_type": "code",
   "execution_count": 23,
   "metadata": {},
   "outputs": [
    {
     "data": {
      "text/plain": [
       "0.9447236180904522"
      ]
     },
     "execution_count": 23,
     "metadata": {},
     "output_type": "execute_result"
    }
   ],
   "source": [
    "RFC.score(X_test, y_test)"
   ]
  },
  {
   "cell_type": "code",
   "execution_count": 24,
   "metadata": {},
   "outputs": [
    {
     "data": {
      "text/plain": [
       "0.9447236180904522"
      ]
     },
     "execution_count": 24,
     "metadata": {},
     "output_type": "execute_result"
    }
   ],
   "source": [
    "RFC = RandomForestClassifier(criterion = 'entropy')\n",
    "RFC.fit(X_train, y_train)\n",
    "forest_pred = RFC.predict(X_test)\n",
    "RFC.score(X_test, y_test)"
   ]
  },
  {
   "cell_type": "code",
   "execution_count": 25,
   "metadata": {},
   "outputs": [
    {
     "data": {
      "text/plain": [
       "0.9447236180904522"
      ]
     },
     "execution_count": 25,
     "metadata": {},
     "output_type": "execute_result"
    }
   ],
   "source": [
    "RFC = RandomForestClassifier(n_estimators = 200)\n",
    "RFC.fit(X_train, y_train)\n",
    "forest_pred = RFC.predict(X_test)\n",
    "RFC.score(X_test, y_test)"
   ]
  },
  {
   "cell_type": "code",
   "execution_count": 26,
   "metadata": {},
   "outputs": [
    {
     "data": {
      "text/plain": [
       "0.9447236180904522"
      ]
     },
     "execution_count": 26,
     "metadata": {},
     "output_type": "execute_result"
    }
   ],
   "source": [
    "RFC = RandomForestClassifier(n_estimators = 200, max_features = 'log2')\n",
    "RFC.fit(X_train, y_train)\n",
    "forest_pred = RFC.predict(X_test)\n",
    "RFC.score(X_test, y_test)"
   ]
  },
  {
   "cell_type": "code",
   "execution_count": 27,
   "metadata": {},
   "outputs": [],
   "source": [
    "from sklearn.svm import SVC"
   ]
  },
  {
   "cell_type": "code",
   "execution_count": 28,
   "metadata": {},
   "outputs": [
    {
     "data": {
      "text/plain": [
       "0.9748743718592965"
      ]
     },
     "execution_count": 28,
     "metadata": {},
     "output_type": "execute_result"
    }
   ],
   "source": [
    "svm = SVC()\n",
    "svm.fit(X_train, y_train)\n",
    "svm_pred = svm.predict(X_test)\n",
    "svm.score(X_test, y_test)"
   ]
  },
  {
   "cell_type": "code",
   "execution_count": 29,
   "metadata": {},
   "outputs": [
    {
     "name": "stdout",
     "output_type": "stream",
     "text": [
      "Polynomial of degree 1 accuracy is 0.9748743718592965\n",
      "Polynomial of degree 2 accuracy is 0.9748743718592965\n",
      "Polynomial of degree 3 accuracy is 0.9748743718592965\n",
      "Polynomial of degree 4 accuracy is 0.9748743718592965\n",
      "Polynomial of degree 5 accuracy is 0.9748743718592965\n",
      "Polynomial of degree 6 accuracy is 0.9748743718592965\n",
      "Polynomial of degree 7 accuracy is 0.9748743718592965\n",
      "Polynomial of degree 8 accuracy is 0.9748743718592965\n",
      "Polynomial of degree 9 accuracy is 0.9748743718592965\n"
     ]
    }
   ],
   "source": [
    "degrees = [1,2,3,4,5,6,7,8,9]\n",
    "for i in range(len(degrees)):\n",
    "    svm = SVC(degree = degrees[i])\n",
    "    svm.fit(X_train, y_train)\n",
    "    svm_pred = svm.predict(X_test)\n",
    "    print('Polynomial of degree', degrees[i], 'accuracy is', svm.score(X_test, y_test))"
   ]
  },
  {
   "cell_type": "code",
   "execution_count": 30,
   "metadata": {},
   "outputs": [
    {
     "name": "stdout",
     "output_type": "stream",
     "text": [
      "sigmoid accuracy is 0.9547738693467337\n",
      "poly accuracy is 0.8592964824120602\n",
      "rbf accuracy is 0.9748743718592965\n",
      "linear accuracy is 0.949748743718593\n"
     ]
    }
   ],
   "source": [
    "kernels = ['sigmoid', 'poly', 'rbf', 'linear']\n",
    "for i in range(len(kernels)):\n",
    "    svm = SVC(kernel = kernels[i])\n",
    "    svm.fit(X_train, y_train)\n",
    "    svm_pred = svm.predict(X_test)\n",
    "    print(kernels[i], 'accuracy is', svm.score(X_test, y_test))"
   ]
  },
  {
   "cell_type": "code",
   "execution_count": 31,
   "metadata": {},
   "outputs": [
    {
     "name": "stdout",
     "output_type": "stream",
     "text": [
      "λ = 0.01 accuracy is 0.8140703517587939\n",
      "λ = 0.1 accuracy is 0.949748743718593\n",
      "λ = 1 accuracy is 0.9698492462311558\n",
      "λ = 10 accuracy is 0.8542713567839196\n",
      "λ = 100 accuracy is 0.49748743718592964\n"
     ]
    }
   ],
   "source": [
    "gammas = [0.01, 0.1, 1, 10, 100]\n",
    "for i in range(len(gammas)):\n",
    "    svm = SVC(gamma = gammas[i])\n",
    "    svm.fit(X_train, y_train)\n",
    "    svm_pred = svm.predict(X_test)\n",
    "    print('\\u03BB =', gammas[i], 'accuracy is', svm.score(X_test, y_test))"
   ]
  },
  {
   "cell_type": "code",
   "execution_count": 40,
   "metadata": {},
   "outputs": [
    {
     "data": {
      "text/plain": [
       "0.9698492462311558"
      ]
     },
     "execution_count": 40,
     "metadata": {},
     "output_type": "execute_result"
    }
   ],
   "source": [
    "svm = SVC(kernel = 'rbf', gamma = 1)\n",
    "svm.fit(X_train, y_train)\n",
    "svm_pred = svm.predict(X_test)\n",
    "svm.score(X_test, y_test)"
   ]
  },
  {
   "cell_type": "code",
   "execution_count": 33,
   "metadata": {},
   "outputs": [
    {
     "name": "stderr",
     "output_type": "stream",
     "text": [
      "/opt/anaconda3/lib/python3.7/site-packages/statsmodels/tools/_testing.py:19: FutureWarning: pandas.util.testing is deprecated. Use the functions in the public API at pandas.testing instead.\n",
      "  import pandas.util.testing as tm\n"
     ]
    }
   ],
   "source": [
    "import seaborn as sns\n",
    "from sklearn.metrics import confusion_matrix\n",
    "\n",
    "cnf_matrix = confusion_matrix(y_test, svm_pred)"
   ]
  },
  {
   "cell_type": "code",
   "execution_count": 34,
   "metadata": {},
   "outputs": [
    {
     "data": {
      "text/plain": [
       "Text(0.5,15,'Predicted label')"
      ]
     },
     "execution_count": 34,
     "metadata": {},
     "output_type": "execute_result"
    },
    {
     "data": {
      "image/png": "[encoded data removed]",
      "text/plain": [
       "<Figure size 432x288 with 2 Axes>"
      ]
     },
     "metadata": {
      "needs_background": "light"
     },
     "output_type": "display_data"
    }
   ],
   "source": [
    "class_names=['0','1','2','3'] # name  of classes\n",
    "fig, ax = plt.subplots()\n",
    "tick_marks = np.arange(len(class_names))\n",
    "# create heatmap\n",
    "sns.heatmap(cnf_matrix, annot=True, cmap=\"YlGnBu\" ,fmt='d', xticklabels=class_names, yticklabels=class_names)\n",
    "ax.xaxis.set_label_position(\"bottom\")\n",
    "plt.tight_layout()\n",
    "plt.title('Confusion matrix')\n",
    "plt.ylabel('Actual label')\n",
    "plt.xlabel('Predicted label')"
   ]
  },
  {
   "cell_type": "code",
   "execution_count": 35,
   "metadata": {},
   "outputs": [],
   "source": [
    "def ClusterIndicesNumpy(clustNum, labels_array): #numpy \n",
    "    return np.where(labels_array == clustNum)[0]\n",
    "\n",
    "def ClusterIndicesComp(clustNum, labels_array): #list comprehension\n",
    "    return np.array([i for i, x in enumerate(labels_array) if x == clustNum])"
   ]
  },
  {
   "cell_type": "code",
   "execution_count": null,
   "metadata": {},
   "outputs": [],
   "source": []
  },
  {
   "cell_type": "code",
   "execution_count": 36,
   "metadata": {},
   "outputs": [
    {
     "name": "stdout",
     "output_type": "stream",
     "text": [
      "Hey, Soul Sister by Train\n",
      "Bad Romance by Lady Gaga\n",
      "Just the Way You Are by Bruno Mars\n",
      "Secrets by OneRepublic\n",
      "Only Girl (In The World) by Rihanna\n",
      "Club Can't Handle Me (feat. David Guetta) by Flo Rida\n",
      "Marry You by Bruno Mars\n",
      "Cooler Than Me - Single Mix by Mike Posner\n",
      "Like A G6 by Far East Movement\n",
      "The Time (Dirty Bit) by The Black Eyed Peas\n",
      "Alejandro by Lady Gaga\n",
      "Your Love Is My Drug by Kesha\n",
      "Whataya Want from Me by Adam Lambert\n",
      "Take It Off by Kesha\n",
      "Animal by Neon Trees\n",
      "Naturally by Selena Gomez & The Scene\n",
      "I Like It by Enrique Iglesias\n",
      "California Gurls by Katy Perry\n",
      "My First Kiss - feat. Ke$ha by 3OH!3\n",
      "Imma Be by The Black Eyed Peas\n",
      "Try Sleeping with a Broken Heart by Alicia Keys\n",
      "Sexy Bitch (feat. Akon) by David Guetta\n",
      "Bound To You - Burlesque Original Motion Picture Soundtrack by Christina Aguilera\n",
      "If I Had You by Adam Lambert\n",
      "Dog Days Are Over by Florence + The Machine\n",
      "Something's Got A Hold On Me - Burlesque Original Motion Picture Soundtrack by Christina Aguilera\n",
      "Doesn't Mean Anything by Alicia Keys\n",
      "Hard by Rihanna\n",
      "Loca by Shakira\n",
      "Written in the Stars (feat. Eric Turner) by Tinie Tempah\n",
      "Castle Walls (feat. Christina Aguilera) by T.I.\n",
      "Break Your Heart by Taio Cruz\n",
      "Hello by Martin Solveig\n",
      "A Thousand Years by Christina Perri\n",
      "Rolling in the Deep by Adele\n",
      "Tonight Tonight by Hot Chelle Rae\n",
      "Best Thing I Never Had by Beyoncé\n",
      "Just Can’t Get Enough by The Black Eyed Peas\n",
      "Yeah 3x by Chris Brown\n",
      "Without You (feat. Usher) by David Guetta\n",
      "Sexy And I Know It by LMFAO\n",
      "The Edge Of Glory by Lady Gaga\n",
      "Till the World Ends by Britney Spears\n",
      "I Wanna Go by Britney Spears\n",
      "Blow by Kesha\n",
      "Judas by Lady Gaga\n",
      "Tonight (I'm Fuckin' You) by Enrique Iglesias\n",
      "Marry The Night by Lady Gaga\n",
      "Hold It Against Me by Britney Spears\n",
      "I'm Into You by Jennifer Lopez\n",
      "Papi by Jennifer Lopez\n",
      "Cheers (Drink To That) by Rihanna\n",
      "S&M Remix by Rihanna\n",
      "Written in the Stars (feat. Eric Turner) by Tinie Tempah\n",
      "Jar of Hearts by Christina Perri\n",
      "Castle Walls (feat. Christina Aguilera) by T.I.\n",
      "Super Bass by Nicki Minaj\n",
      "Raise Your Glass by P!nk\n",
      "Firework by Katy Perry\n",
      "Titanium (feat. Sia) by David Guetta\n",
      "Paradise by Coldplay\n",
      "What Makes You Beautiful by One Direction\n",
      "Call Me Maybe by Carly Rae Jepsen\n",
      "Try by P!nk\n",
      "Starships by Nicki Minaj\n",
      "One More Night by Maroon 5\n",
      "Domino by Jessie J\n",
      "Where Have You Been by Rihanna\n",
      "Wide Awake by Katy Perry\n",
      "Dance Again by Jennifer Lopez\n",
      "We Are Young (feat. Janelle Monáe) by fun.\n",
      "You Da One by Rihanna\n",
      "Stereo Hearts (feat. Adam Levine) by Gym Class Heroes\n",
      "Blow Me (One Last Kiss) by P!nk\n",
      "Roar by Katy Perry\n",
      "We Can't Stop by Miley Cyrus\n",
      "Don't You Worry Child - Radio Edit by Swedish House Mafia\n",
      "Get Lucky (feat. Pharrell Williams & Nile Rodgers) - Radio Edit by Daft Punk\n",
      "Wrecking Ball by Miley Cyrus\n",
      "Blurred Lines by Robin Thicke\n",
      "Heart Attack by Demi Lovato\n",
      "Clarity by Zedd\n",
      "Summertime Sadness (Lana Del Rey Vs. Cedric Gervais) - Cedric Gervais Remix by Lana Del Rey\n",
      "Under Control by Calvin Harris\n",
      "Hold On, We're Going Home by Drake\n",
      "Kiss You by One Direction\n",
      "Sweet Nothing (feat. Florence Welch) by Calvin Harris\n",
      "Lose Yourself to Dance by Daft Punk\n",
      "Brave by Sara Bareilles\n",
      "Can't Hold Us (feat. Ray Dalton) by Macklemore & Ryan Lewis\n",
      "The Way by Ariana Grande\n",
      "Suit & Tie by Justin Timberlake\n",
      "#thatPOWER by will.i.am\n",
      "Play Hard (feat. Ne-Yo & Akon) - New Edit by David Guetta\n",
      "Love Somebody by Maroon 5\n",
      "A Little Party Never Killed Nobody (All We Got) by Fergie\n",
      "Heartbreaker by Justin Bieber\n",
      "Made In The USA by Demi Lovato\n",
      "Clown by Emeli Sandé\n",
      "Girl On Fire (feat. Nicki Minaj) - Inferno Version by Alicia Keys\n",
      "Live It Up by Jennifer Lopez\n",
      "What About Love by Austin Mahone\n",
      "Take Back the Night by Justin Timberlake\n"
     ]
    }
   ],
   "source": [
    "list0 = ClusterIndicesNumpy(0, y_pred)\n",
    "for i in range(len(list0)):\n",
    "    print(df['title'][list0[i]], 'by' , df['artist'][list0[i]])"
   ]
  },
  {
   "cell_type": "code",
   "execution_count": 37,
   "metadata": {},
   "outputs": [
    {
     "name": "stdout",
     "output_type": "stream",
     "text": [
      "Love The Way You Lie by Eminem\n",
      "TiK ToK by Kesha\n",
      "Empire State of Mind (Part II) Broken Down by Alicia Keys\n",
      "OMG (feat. will.i.am) by Usher\n",
      "Misery by Maroon 5\n",
      "Not Myself Tonight by Christina Aguilera\n",
      "What the Hell by Avril Lavigne\n",
      "Monster by Kanye West\n",
      "Party Rock Anthem by LMFAO\n",
      "We Found Love by Rihanna\n",
      "1+1 by Beyoncé\n",
      "Invading My Mind by Jennifer Lopez\n",
      "Turn Up the Music by Chris Brown\n",
      "Wake Me Up by Avicii\n",
      "Impossible by James Arthur\n",
      "Feel This Moment (feat. Christina Aguilera) by Pitbull\n",
      "If I Lose Myself - Alesso vs OneRepublic by OneRepublic\n",
      "Daylight by Maroon 5\n",
      "Walks Like Rihanna by The Wanted\n",
      "Next To Me by Emeli Sandé\n",
      "We Own The Night by The Wanted\n"
     ]
    }
   ],
   "source": [
    "list1 = ClusterIndicesNumpy(1, y_pred)\n",
    "for i in range(len(list1)):\n",
    "    print(df['title'][list1[i]], 'by' , df['artist'][list1[i]])\n"
   ]
  },
  {
   "cell_type": "code",
   "execution_count": 38,
   "metadata": {},
   "outputs": [
    {
     "name": "stdout",
     "output_type": "stream",
     "text": [
      "Baby by Justin Bieber\n",
      "Eenie Meenie by Sean Kingston\n",
      "All The Right Moves by OneRepublic\n",
      "3 by Britney Spears\n",
      "DJ Got Us Fallin' In Love (feat. Pitbull) by Usher\n",
      "Just the Way You Are by Bruno Mars\n",
      "Love On Top by Beyoncé\n",
      "Grenade by Bruno Mars\n",
      "We R Who We R by Kesha\n",
      "Price Tag by Jessie J\n",
      "E.T. by Katy Perry\n",
      "Last Friday Night (T.G.I.F.) by Katy Perry\n",
      "Locked Out of Heaven by Bruno Mars\n",
      "I Knew You Were Trouble. by Taylor Swift\n",
      "We Are Never Ever Getting Back Together by Taylor Swift\n",
      "Stronger (What Doesn't Kill You) by Kelly Clarkson\n",
      "Good Time by Owl City\n",
      "Glad You Came by The Wanted\n",
      "Beauty And A Beat by Justin Bieber\n",
      "Some Nights by fun.\n",
      "Part Of Me by Katy Perry\n",
      "Diamonds by Rihanna\n",
      "Underneath the Tree by Kelly Clarkson\n",
      "Just Give Me a Reason (feat. Nate Ruess) by P!nk\n",
      "Hall of Fame by The Script\n",
      "I Love It (feat. Charli XCX) by Icona Pop\n",
      "Move by Little Mix\n",
      "Mirrors - Radio Edit by Justin Timberlake\n",
      "TKO by Justin Timberlake\n",
      "Atlas - From “The Hunger Games: Catching Fire” Soundtrack by Coldplay\n",
      "Anything Could Happen by Ellie Goulding\n",
      "Finally Found You by Enrique Iglesias\n"
     ]
    }
   ],
   "source": [
    "list2 = ClusterIndicesNumpy(2, y_pred)\n",
    "for i in range(len(list2)):\n",
    "    print(df['title'][list2[i]], 'by' , df['artist'][list2[i]])\n"
   ]
  },
  {
   "cell_type": "code",
   "execution_count": 39,
   "metadata": {},
   "outputs": [
    {
     "name": "stdout",
     "output_type": "stream",
     "text": [
      "Dynamite by Taio Cruz\n",
      "Telephone by Lady Gaga\n",
      "Meet Me Halfway by The Black Eyed Peas\n",
      "Teenage Dream by Katy Perry\n",
      "Blah Blah Blah (feat. 3OH!3) by Kesha\n",
      "Rock That Body by The Black Eyed Peas\n",
      "You Lost Me by Christina Aguilera\n",
      "Someone Like You by Adele\n",
      "Give Me Everything by Pitbull\n",
      "Run the World (Girls) by Beyoncé\n",
      "Moves Like Jagger - Studio Recording From The Voice Performance by Maroon 5\n",
      "Born This Way by Lady Gaga\n",
      "Marry You by Bruno Mars\n",
      "Good Life by OneRepublic\n",
      "On The Floor by Jennifer Lopez\n",
      "What's My Name? by Rihanna\n",
      "You And I by Lady Gaga\n",
      "Please Don't Go by Mike Posner\n",
      "Turning Page by Sleeping At Last\n",
      "Moment 4 Life - Album Version (Edited) by Nicki Minaj\n",
      "Muny - Album Version (Edited) by Nicki Minaj\n",
      "Payphone by Maroon 5\n",
      "Love You Like A Love Song by Selena Gomez & The Scene\n",
      "Set Fire to the Rain by Adele\n",
      "International Love by Pitbull\n",
      "Boyfriend by Justin Bieber\n",
      "The One That Got Away by Katy Perry\n",
      "Lights - Single Version by Ellie Goulding\n",
      "Don't Stop the Party (feat. TJR) by Pitbull\n",
      "It Will Rain by Bruno Mars\n",
      "Story of My Life by One Direction\n",
      "We Are Never Ever Getting Back Together by Taylor Swift\n",
      "Die Young by Kesha\n",
      "Everybody Talks by Neon Trees\n",
      "Best Song Ever by One Direction\n",
      "Work Bitch by Britney Spears\n",
      "Beneath Your Beautiful by Labrinth\n",
      "Let Me Love You (Until You Learn To Love Yourself) by Ne-Yo\n",
      "Thrift Shop (feat. Wanz) by Macklemore & Ryan Lewis\n",
      "Rock N Roll by Avril Lavigne\n",
      "Come & Get It by Selena Gomez\n",
      "Applause by Lady Gaga\n",
      "Pom Poms by Jonas Brothers\n"
     ]
    }
   ],
   "source": [
    "list3 = ClusterIndicesNumpy(3, y_pred)\n",
    "for i in range(len(list3)):\n",
    "    print(df['title'][list3[i]], 'by' , df['artist'][list3[i]])\n"
   ]
  },
  {
   "cell_type": "code",
   "execution_count": 68,
   "metadata": {},
   "outputs": [],
   "source": [
    "from sklearn.cluster import MiniBatchKMeans"
   ]
  },
  {
   "cell_type": "code",
   "execution_count": 69,
   "metadata": {},
   "outputs": [],
   "source": [
    "clustering = MiniBatchKMeans(n_clusters = 4)"
   ]
  },
  {
   "cell_type": "code",
   "execution_count": 74,
   "metadata": {},
   "outputs": [],
   "source": [
    "clustering = clustering.partial_fit(df_new)"
   ]
  },
  {
   "cell_type": "code",
   "execution_count": 75,
   "metadata": {},
   "outputs": [
    {
     "data": {
      "text/plain": [
       "array([1, 1, 1, 0, 1, 1, 1, 2, 3, 1, 1, 1, 1, 1, 1, 0, 3, 0, 0, 3, 0, 2,\n",
       "       3, 1, 1, 2, 1, 1, 1, 1, 2, 1, 1, 0, 1, 2, 2, 1, 1, 2, 2, 0, 2, 1,\n",
       "       0, 1, 1, 1, 0, 1, 1, 0, 0, 1, 1, 1, 1, 1, 0, 3, 1, 1, 1, 0, 1, 3,\n",
       "       1, 1, 2, 3, 3, 0, 1, 1, 2, 1, 0, 1, 1, 2, 1, 0, 1, 1, 1, 1, 1, 0,\n",
       "       2, 3, 1, 1, 1, 1, 3, 0, 0, 1, 3, 1, 1, 1, 1, 3, 1, 2, 0, 1, 1, 3,\n",
       "       3, 3, 3, 3, 1, 3, 1, 1, 1, 1, 1, 1, 0, 3, 1, 3, 1, 2, 1, 1, 1, 1,\n",
       "       2, 3, 1, 1, 1, 1, 1, 2, 1, 3, 3, 1, 2, 3, 1, 1, 3, 2, 0, 2, 3, 2,\n",
       "       1, 1, 1, 2, 3, 1, 1, 1, 0, 1, 2, 1, 1, 0, 3, 3, 1, 1, 0, 0, 1, 1,\n",
       "       3, 1, 3, 1, 1, 2, 0, 0, 1, 1, 3, 0, 0, 3, 1, 1, 2, 1, 0, 2, 0, 1,\n",
       "       1, 1, 2, 1, 0, 1, 3, 2, 1, 0, 1, 0, 0, 3, 1, 2, 2, 2, 2, 1, 1, 3,\n",
       "       3, 1, 1, 3, 1, 1, 0, 3, 3, 1, 3, 3, 2, 2, 1, 3, 1, 3, 1, 3, 1, 0,\n",
       "       3, 1, 1, 2, 3, 1, 2, 2, 0, 1, 2, 2, 1, 3, 0, 0, 1, 1, 3, 3, 2, 3,\n",
       "       1, 3, 3, 0, 0, 3, 3, 3, 0, 3, 1, 1, 2, 2, 0, 3, 2, 3, 3, 3, 3, 1,\n",
       "       2, 3, 2, 1, 1, 2, 3, 1, 3, 0, 3, 2, 3, 3, 2, 1, 3, 3, 1, 0, 1, 2,\n",
       "       1, 3, 1, 3, 1, 1, 2, 1, 1, 1, 1, 1, 1, 1, 1, 1, 1, 2, 3, 3, 1, 3,\n",
       "       3, 1, 0, 2, 2, 3, 1, 1, 1, 3, 1, 0, 1, 3, 1, 0, 1, 3, 1, 3, 1, 0,\n",
       "       3, 1, 1, 1, 1, 1, 1, 0, 1, 0, 2, 3, 3, 1, 2, 2, 3, 1, 2, 3, 3, 1,\n",
       "       3, 3, 3, 3, 2, 3, 3, 2, 3, 1, 1, 1, 0, 1, 1, 2, 1, 3, 3, 1, 3, 3,\n",
       "       1, 3, 0, 2, 1, 1, 3, 1, 1, 1, 1, 1, 3, 3, 3, 2, 1, 1, 1, 3, 1, 2,\n",
       "       1, 1, 0, 1, 0, 3, 3, 3, 1, 1, 3, 1, 1, 0, 3, 1, 3, 3, 3, 1, 1, 3,\n",
       "       2, 3, 3, 3, 3, 2, 1, 2, 3, 1, 2, 2, 3, 3, 1, 3, 3, 3, 1, 0, 3, 2,\n",
       "       2, 3, 3, 3, 1, 1, 3, 2, 3, 0, 1, 0, 3, 3, 2, 1, 1, 1, 1, 1, 3, 1,\n",
       "       1, 1, 0, 1, 1, 3, 1, 3, 2, 2, 1, 1, 2, 3, 1, 0, 1, 3, 3, 2, 1, 0,\n",
       "       1, 1, 1, 3, 1, 3, 1, 1, 3, 2, 1, 2, 3, 3, 2, 3, 2, 2, 3, 1, 3, 1,\n",
       "       0, 1, 0, 1, 3, 3, 1, 3, 3, 1, 3, 3, 1, 0, 2, 0, 1, 2, 2, 2, 3, 2,\n",
       "       3, 3, 1, 3, 1, 2, 0, 1, 2, 0, 3, 3, 1, 3, 0, 2, 3, 3, 1, 2, 0, 1,\n",
       "       3, 3, 3, 3, 3, 3, 2, 1, 2, 1, 3, 3, 3, 2, 1, 3, 2, 1, 3, 1, 3, 3,\n",
       "       0, 2, 1, 1, 3, 1, 1, 1, 2], dtype=int32)"
      ]
     },
     "execution_count": 75,
     "metadata": {},
     "output_type": "execute_result"
    }
   ],
   "source": [
    "clustering.labels_"
   ]
  },
  {
   "cell_type": "code",
   "execution_count": 95,
   "metadata": {},
   "outputs": [],
   "source": [
    "clustering = clustering.labels_.tolist()"
   ]
  },
  {
   "cell_type": "code",
   "execution_count": 98,
   "metadata": {},
   "outputs": [],
   "source": [
    "def rand_index(x, y):\n",
    "    count = 0\n",
    "    for i in range(len(x)):\n",
    "        if x[i] == y[i]:\n",
    "            count += 1\n",
    "    score = count/len(x)\n",
    "    print(score)"
   ]
  },
  {
   "cell_type": "code",
   "execution_count": 106,
   "metadata": {},
   "outputs": [
    {
     "name": "stdout",
     "output_type": "stream",
     "text": [
      "0.7379767827529021\n"
     ]
    }
   ],
   "source": [
    "rand_index(clustering, y)"
   ]
  },
  {
   "cell_type": "code",
   "execution_count": null,
   "metadata": {},
   "outputs": [],
   "source": []
  }
 ],
 "metadata": {
  "kernelspec": {
   "display_name": "Python 3",
   "language": "python",
   "name": "python3"
  },
  "language_info": {
   "codemirror_mode": {
    "name": "ipython",
    "version": 3
   },
   "file_extension": ".py",
   "mimetype": "text/x-python",
   "name": "python",
   "nbconvert_exporter": "python",
   "pygments_lexer": "ipython3",
   "version": "3.7.4"
  }
 },
 "nbformat": 4,
 "nbformat_minor": 2
}
